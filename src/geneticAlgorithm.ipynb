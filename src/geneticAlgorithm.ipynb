{
 "cells": [
  {
   "cell_type": "code",
   "execution_count": 1,
   "id": "3f616426",
   "metadata": {},
   "outputs": [],
   "source": [
    "import random"
   ]
  },
  {
   "cell_type": "code",
   "execution_count": 2,
   "id": "37b55149",
   "metadata": {},
   "outputs": [],
   "source": [
    "class KnapsackProblem:\n",
    "    def __init__(self, weights, values, capacity):\n",
    "        self.weights = weights\n",
    "        self.values = values\n",
    "        self.capacity = capacity\n",
    "        self.num_items = len(weights)\n",
    "\n",
    "class Individual:\n",
    "    def __init__(self, problem: KnapsackProblem):\n",
    "        self.problem = problem\n",
    "        self.genotype = [random.random() < 0.5 for _ in range(problem.num_items)]\n",
    "        self.fitness = self.evaluate_fitness()\n",
    "\n",
    "    def evaluate_fitness(self):\n",
    "        total_weight = 0\n",
    "        total_value = 0\n",
    "\n",
    "        for i, bit in enumerate(self.genotype):\n",
    "            if bit:\n",
    "                total_weight += self.problem.weights[i]\n",
    "                total_value += self.problem.values[i]\n",
    "        \n",
    "        if total_weight > self.problem.capacity:\n",
    "            return -1\n",
    "        \n",
    "        return total_value"
   ]
  },
  {
   "cell_type": "markdown",
   "id": "2d431885",
   "metadata": {},
   "source": [
    "Crossover definitions"
   ]
  },
  {
   "cell_type": "code",
   "execution_count": 3,
   "id": "036b882a",
   "metadata": {},
   "outputs": [],
   "source": [
    "# Crossover Operators\n",
    "def arithmetic_crossover(p1, p2, alpha=None):\n",
    "    if alpha is None:\n",
    "        alpha = random.random()\n",
    "    \n",
    "    child1 = Individual(p1.problem)\n",
    "    child2 = Individual(p2.problem)\n",
    "    \n",
    "    child1.genotype = [\n",
    "        round(alpha * g1 + (1 - alpha) * g2)\n",
    "        for g1, g2 in zip(p1.genotype, p2.genotype)\n",
    "    ]\n",
    "    child2.genotype = [\n",
    "        round(alpha * g2 + (1 - alpha) * g1)\n",
    "        for g1, g2 in zip(p1.genotype, p2.genotype)\n",
    "    ]\n",
    "    \n",
    "    return child1, child2\n",
    "\n",
    "\n",
    "def single_point_crossover(p1, p2):\n",
    "    point = random.randint(1, len(p1.genotype) - 1)\n",
    "\n",
    "    child1 = Individual(p1.problem)\n",
    "    child2 = Individual(p2.problem)\n",
    "\n",
    "    child1.genotype = p1.genotype[:point] + p2.genotype[point:]\n",
    "    child2.genotype = p2.genotype[:point] + p1.genotype[point:]\n",
    "\n",
    "    return child1, child2\n",
    "\n",
    "def two_point_crossover(p1, p2):\n",
    "    a, b = sorted(random.sample(range(len(p1.genotype)), 2))\n",
    "\n",
    "    child1 = Individual(p1.problem)\n",
    "    child2 = Individual(p2.problem)\n",
    "\n",
    "    child1.genotype = (\n",
    "        p1.genotype[:a] + p2.genotype[a:b] + p1.genotype[b:]\n",
    "    )\n",
    "    child2.genotype = (\n",
    "        p2.genotype[:a] + p1.genotype[a:b] + p2.genotype[b:]\n",
    "    )\n",
    "\n",
    "    return child1, child2\n",
    "\n",
    "def uniform_crossover(p1, p2):\n",
    "    child1 = Individual(p1.problem)\n",
    "    child2 = Individual(p2.problem)\n",
    "\n",
    "    child1.genotype = []\n",
    "    child2.genotype = []\n",
    "\n",
    "    for bit1, bit2 in zip(p1.genotype, p2.genotype):\n",
    "        if random.random() < 0.5:\n",
    "            child1.genotype.append(bit1)\n",
    "            child2.genotype.append(bit2)\n",
    "        else:\n",
    "            child1.genotype.append(bit2)\n",
    "            child2.genotype.append(bit1)\n",
    "\n",
    "    return child1, child2\n"
   ]
  },
  {
   "cell_type": "markdown",
   "id": "9441582c",
   "metadata": {},
   "source": [
    "Selection definitions"
   ]
  },
  {
   "cell_type": "code",
   "execution_count": 4,
   "id": "82590d5b",
   "metadata": {},
   "outputs": [],
   "source": [
    "def selection(population, tournament_size):\n",
    "    candidates = random.sample(population, tournament_size)\n",
    "    return max(candidates, key=lambda ind: ind.fitness)\n"
   ]
  },
  {
   "cell_type": "markdown",
   "id": "fcaa3b91",
   "metadata": {},
   "source": [
    "Mutation definitions"
   ]
  },
  {
   "cell_type": "code",
   "execution_count": 5,
   "id": "0e1cd612",
   "metadata": {},
   "outputs": [],
   "source": [
    "def bit_flip_mutation(individual, mutation_rate):\n",
    "    for i in range(len(individual.genotype)):\n",
    "        if random.random() < mutation_rate:\n",
    "            individual.genotype[i] = not individual.genotype[i]\n",
    "    # individual.fitness = individual.evaluate_fitness()\n",
    "\n",
    "\n",
    "def swap_mutation(individual):\n",
    "    idx1, idx2 = random.sample(range(len(individual.genotype)), 2)\n",
    "    individual.genotype[idx1], individual.genotype[idx2] = individual.genotype[idx2], individual.genotype[idx1]\n",
    "    # individual.fitness = individual.evaluate_fitness()\n",
    "\n",
    "\n",
    "def scramble_mutation(individual):\n",
    "    start, end = sorted(random.sample(range(len(individual.genotype)), 2))\n",
    "    subseq = individual.genotype[start:end]\n",
    "    random.shuffle(subseq)\n",
    "    individual.genotype[start:end] = subseq\n",
    "    # individual.fitness = individual.evaluate_fitness()\n"
   ]
  },
  {
   "cell_type": "code",
   "execution_count": 6,
   "id": "ddf682e7",
   "metadata": {},
   "outputs": [],
   "source": [
    "def genetic_algorithm(\n",
    "    problem: KnapsackProblem,\n",
    "    population_size=50,\n",
    "    generations=50,\n",
    "    tournament_size=3,\n",
    "    mutation_rate=0.05,\n",
    "    elitism_size=2,\n",
    "    crossover_op='single_point',        # choose: 'single_point', 'two_point', 'uniform'\n",
    "    mutation_op='bit_flip'              # choose: 'bit_flip', 'swap', 'scramble'\n",
    "):\n",
    "    population = [Individual(problem) for _ in range(population_size)]\n",
    "\n",
    "    crossover_ops = {\n",
    "        'single_point': single_point_crossover,\n",
    "        'two_point': two_point_crossover,\n",
    "        'uniform': uniform_crossover,\n",
    "        'arithmetic': arithmetic_crossover\n",
    "    }\n",
    "\n",
    "    mutation_ops = {\n",
    "        'bit_flip': lambda ind: bit_flip_mutation(ind, mutation_rate),\n",
    "        'swap': swap_mutation,\n",
    "        'scramble': scramble_mutation\n",
    "    }\n",
    "\n",
    "    crossover_func = crossover_ops[crossover_op]\n",
    "    mutation_func = mutation_ops[mutation_op]\n",
    "\n",
    "    for gen in range(generations):\n",
    "        population.sort(key=lambda ind: ind.fitness, reverse=True)\n",
    "        new_population = population[:elitism_size]\n",
    "\n",
    "        while len(new_population) < population_size:\n",
    "            parent1 = selection(population, tournament_size)\n",
    "            parent2 = selection(population, tournament_size)\n",
    "            child1, child2 = crossover_func(parent1, parent2)\n",
    "\n",
    "            mutation_func(child1)\n",
    "            mutation_func(child2)\n",
    "\n",
    "            child1.fitness = child1.evaluate_fitness()\n",
    "            child2.fitness = child2.evaluate_fitness()\n",
    "\n",
    "            new_population.extend([child1, child2])\n",
    "\n",
    "        population = new_population[:population_size]\n",
    "\n",
    "    return max(population, key=lambda ind: ind.fitness)\n"
   ]
  },
  {
   "cell_type": "code",
   "execution_count": 7,
   "id": "e5db2002",
   "metadata": {},
   "outputs": [
    {
     "name": "stdout",
     "output_type": "stream",
     "text": [
      "Best genotype: [False, True, True, True, True]\n",
      "Best fitness (value): 15\n"
     ]
    }
   ],
   "source": [
    "weights = [12, 2, 1, 1, 4]\n",
    "values =  [4, 2, 2, 1, 10]\n",
    "capacity = 15\n",
    "\n",
    "problem = KnapsackProblem(weights, values, capacity)\n",
    "\n",
    "best = genetic_algorithm(\n",
    "    problem=problem,\n",
    "    population_size=100,\n",
    "    generations=50,\n",
    "    mutation_rate=0.05,\n",
    "    crossover_op='arithmetic',\n",
    "    mutation_op='scramble',\n",
    ")\n",
    "\n",
    "print(\"Best genotype:\", best.genotype)\n",
    "print(\"Best fitness (value):\", best.fitness)\n"
   ]
  },
  {
   "cell_type": "code",
   "execution_count": null,
   "id": "eeabef3d",
   "metadata": {},
   "outputs": [],
   "source": []
  }
 ],
 "metadata": {
  "kernelspec": {
   "display_name": "Python 3 (ipykernel)",
   "language": "python",
   "name": "python3"
  },
  "language_info": {
   "codemirror_mode": {
    "name": "ipython",
    "version": 3
   },
   "file_extension": ".py",
   "mimetype": "text/x-python",
   "name": "python",
   "nbconvert_exporter": "python",
   "pygments_lexer": "ipython3",
   "version": "3.12.6"
  }
 },
 "nbformat": 4,
 "nbformat_minor": 5
}
