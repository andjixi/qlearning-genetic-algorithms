{
 "cells": [
  {
   "cell_type": "code",
   "execution_count": 1,
   "id": "a9bb1e07-de5d-4a71-9ca7-b9d49476fd3a",
   "metadata": {},
   "outputs": [],
   "source": [
    "def knapsack_dp(weights, values, capacity):\n",
    "    n = len(weights)\n",
    "    dp = [[0] * (capacity + 1) for _ in range(n + 1)]\n",
    "\n",
    "    for i in range(1, n + 1):\n",
    "        wi = weights[i-1]\n",
    "        vi = values[i-1]\n",
    "        for w in range(capacity + 1):\n",
    "            if wi <= w:\n",
    "                dp[i][w] = max(dp[i-1][w], dp[i-1][w-wi] + vi)\n",
    "            else:\n",
    "                dp[i][w] = dp[i-1][w]\n",
    "\n",
    "    # optimal value\n",
    "    best_value = max(dp[n])\n",
    "\n",
    "    # genotype reconstruction\n",
    "    best_w = dp[n].index(best_value)\n",
    "    chosen = [False] * n\n",
    "\n",
    "    i, w = n, best_w\n",
    "    while i > 0 and w >= 0:\n",
    "        if dp[i][w] != dp[i-1][w]:\n",
    "            chosen[i-1] = True\n",
    "            w -= weights[i-1]\n",
    "        i -= 1\n",
    "\n",
    "    return best_value, chosen"
   ]
  },
  {
   "cell_type": "code",
   "execution_count": 2,
   "id": "477da8b0-6d79-449a-b0f5-d7d4479f7cae",
   "metadata": {},
   "outputs": [],
   "source": [
    "def load_kplib_instance(path):\n",
    "    with open(path, \"r\") as f:\n",
    "        lines = [line.strip() for line in f if line.strip()]  \n",
    "\n",
    "    n = int(lines[0])             # num items\n",
    "    capacity = int(lines[1])      # capacity\n",
    "    \n",
    "    weights = []\n",
    "    values = []\n",
    "    \n",
    "    for line in lines[2:2+n]:\n",
    "        w, v = map(int, line.split())\n",
    "        weights.append(w)\n",
    "        values.append(v)\n",
    "    \n",
    "    return weights, values, capacity"
   ]
  },
  {
   "cell_type": "code",
   "execution_count": 7,
   "id": "4d3eb9a4-6140-4a92-b57f-94cb1cd7a85b",
   "metadata": {},
   "outputs": [
    {
     "name": "stdout",
     "output_type": "stream",
     "text": [
      "Optimal value: 188165\n",
      "Optimal genotype: [False, False, False, True, True, False, True, False, False, True, True, False, False, False, False, True, True, False, False, False, True, False, True, False, True, True, True, True, False, False, True, False, True, False, True, True, True, True, False, True, True, True, False, False, False, False, False, False, True, False, False, True, True, False, True, False, True, False, False, False, True, False, False, False, True, True, True, False, True, True, True, True, False, True, True, True, False, True, False, False, False, False, False, False, True, True, False, False, True, True, False, False, True, False, False, True, False, True, False, True, False, True, False, False, True, True, False, False, False, True, True, True, True, False, True, False, False, True, False, True, False, True, False, False, True, True, False, True, True, True, True, True, True, True, True, False, True, False, True, True, True, True, True, False, True, True, False, True, False, True, True, False, True, False, False, True, False, True, False, True, True, True, True, False, False, True, True, True, True, True, False, True, True, False, True, False, False, True, True, False, False, True, False, False, True, False, True, True, True, True, False, False, True, True, False, True, False, False, False, True, True, False, True, True, True, True, False, True, False, True, True, False, True, True, True, True, True, True, True, False, False, False, False, False, True, True, True, True, True, True, True, False, True, False, True, True, True, True, True, False, False, False, True, True, False, False, False, True, True, True, False, False, False, False, True, True, False, True, False, True, True, False, False, False, False, True, True, True, True, False, False, True, True, True, True, False, False, True, True, True, True, True, True, True, False, True, True, True, True, True, False, False, True, False, True, False, False, True, True, True, False, True, False, True, False, True, True, True, True, True, True, True, False, True, True, False, True, False, False, True, True, False, True, False, True, False, True, False, False, True, True, True, True, True, False, True, True, True, True, True, True, True, False, True, True, False, False, False, False, True, True, True, True, True, False, True, False, False, True, True, True, True, False, False, True, True, False, False, True, True, False, True, True, True, True, True, False, False, True, False, False, False, False, False, False, True, False, True, False, False, False, True, False, True, True, False, False, False, True, True, True, False, True, True, True, True, False, False, True, True, True, False, True, True, True, True, False, True, True, True, True, False, False, True, True, False, True, False, True, True, True, True, True, True, False, True, False, False, False, False, True, False, False, True, False, True, True, True, True, True, True, False, True, False, True, False, False, False, True, False, True, True, True, False, True, True, True, False, True, True, False, True, False, True, True, False, True, True, False, True, True, True, True, False, True, False, True, True, True, False, True, True, True, False, False, False, False, True, True, True]\n"
     ]
    }
   ],
   "source": [
    "instance_path = \"../instances/n00500_R01000_s000.kp\" \n",
    "weights, values, capacity = load_kplib_instance(instance_path)\n",
    "\n",
    "best_value, best_genotype = knapsack_dp(weights, values, capacity)\n",
    "print(\"Optimal value:\", best_value)\n",
    "print(\"Optimal genotype:\", best_genotype)"
   ]
  },
  {
   "cell_type": "code",
   "execution_count": null,
   "id": "aca3575d-2311-4a69-acbd-f4399306f0cd",
   "metadata": {},
   "outputs": [],
   "source": []
  },
  {
   "cell_type": "code",
   "execution_count": null,
   "id": "4a2bcbab-c16f-4aa8-bb1a-93aa4be04e29",
   "metadata": {},
   "outputs": [],
   "source": []
  }
 ],
 "metadata": {
  "kernelspec": {
   "display_name": "Python 3 (ipykernel)",
   "language": "python",
   "name": "python3"
  },
  "language_info": {
   "codemirror_mode": {
    "name": "ipython",
    "version": 3
   },
   "file_extension": ".py",
   "mimetype": "text/x-python",
   "name": "python",
   "nbconvert_exporter": "python",
   "pygments_lexer": "ipython3",
   "version": "3.12.6"
  }
 },
 "nbformat": 4,
 "nbformat_minor": 5
}
